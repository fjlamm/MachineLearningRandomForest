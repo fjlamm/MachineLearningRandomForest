{
 "cells": [
  {
   "cell_type": "markdown",
   "metadata": {},
   "source": [
    "# Predict Bike Rentals\n",
    "\n",
    "On this project we'll try to predict how many kikes will be rented any given day.\n",
    "\n",
    "We'll use a csv file with the data for bike rentals for a year on Washington DC. Hadi Fanaee-T at the University of Porto compiled this data. The file is available at [the University of California at Irvine's website](http://archive.ics.uci.edu/ml/datasets/Bike+Sharing+Dataset)\n",
    "\n",
    "We'll start by reading the the file and taking a look at it."
   ]
  },
  {
   "cell_type": "code",
   "execution_count": 1,
   "metadata": {
    "collapsed": false
   },
   "outputs": [
    {
     "data": {
      "text/html": [
       "<div>\n",
       "<style scoped>\n",
       "    .dataframe tbody tr th:only-of-type {\n",
       "        vertical-align: middle;\n",
       "    }\n",
       "\n",
       "    .dataframe tbody tr th {\n",
       "        vertical-align: top;\n",
       "    }\n",
       "\n",
       "    .dataframe thead th {\n",
       "        text-align: right;\n",
       "    }\n",
       "</style>\n",
       "<table border=\"1\" class=\"dataframe\">\n",
       "  <thead>\n",
       "    <tr style=\"text-align: right;\">\n",
       "      <th></th>\n",
       "      <th>instant</th>\n",
       "      <th>dteday</th>\n",
       "      <th>season</th>\n",
       "      <th>yr</th>\n",
       "      <th>mnth</th>\n",
       "      <th>hr</th>\n",
       "      <th>holiday</th>\n",
       "      <th>weekday</th>\n",
       "      <th>workingday</th>\n",
       "      <th>weathersit</th>\n",
       "      <th>temp</th>\n",
       "      <th>atemp</th>\n",
       "      <th>hum</th>\n",
       "      <th>windspeed</th>\n",
       "      <th>casual</th>\n",
       "      <th>registered</th>\n",
       "      <th>cnt</th>\n",
       "    </tr>\n",
       "  </thead>\n",
       "  <tbody>\n",
       "    <tr>\n",
       "      <th>0</th>\n",
       "      <td>1</td>\n",
       "      <td>2011-01-01</td>\n",
       "      <td>1</td>\n",
       "      <td>0</td>\n",
       "      <td>1</td>\n",
       "      <td>0</td>\n",
       "      <td>0</td>\n",
       "      <td>6</td>\n",
       "      <td>0</td>\n",
       "      <td>1</td>\n",
       "      <td>0.24</td>\n",
       "      <td>0.2879</td>\n",
       "      <td>0.81</td>\n",
       "      <td>0.0</td>\n",
       "      <td>3</td>\n",
       "      <td>13</td>\n",
       "      <td>16</td>\n",
       "    </tr>\n",
       "    <tr>\n",
       "      <th>1</th>\n",
       "      <td>2</td>\n",
       "      <td>2011-01-01</td>\n",
       "      <td>1</td>\n",
       "      <td>0</td>\n",
       "      <td>1</td>\n",
       "      <td>1</td>\n",
       "      <td>0</td>\n",
       "      <td>6</td>\n",
       "      <td>0</td>\n",
       "      <td>1</td>\n",
       "      <td>0.22</td>\n",
       "      <td>0.2727</td>\n",
       "      <td>0.80</td>\n",
       "      <td>0.0</td>\n",
       "      <td>8</td>\n",
       "      <td>32</td>\n",
       "      <td>40</td>\n",
       "    </tr>\n",
       "    <tr>\n",
       "      <th>2</th>\n",
       "      <td>3</td>\n",
       "      <td>2011-01-01</td>\n",
       "      <td>1</td>\n",
       "      <td>0</td>\n",
       "      <td>1</td>\n",
       "      <td>2</td>\n",
       "      <td>0</td>\n",
       "      <td>6</td>\n",
       "      <td>0</td>\n",
       "      <td>1</td>\n",
       "      <td>0.22</td>\n",
       "      <td>0.2727</td>\n",
       "      <td>0.80</td>\n",
       "      <td>0.0</td>\n",
       "      <td>5</td>\n",
       "      <td>27</td>\n",
       "      <td>32</td>\n",
       "    </tr>\n",
       "    <tr>\n",
       "      <th>3</th>\n",
       "      <td>4</td>\n",
       "      <td>2011-01-01</td>\n",
       "      <td>1</td>\n",
       "      <td>0</td>\n",
       "      <td>1</td>\n",
       "      <td>3</td>\n",
       "      <td>0</td>\n",
       "      <td>6</td>\n",
       "      <td>0</td>\n",
       "      <td>1</td>\n",
       "      <td>0.24</td>\n",
       "      <td>0.2879</td>\n",
       "      <td>0.75</td>\n",
       "      <td>0.0</td>\n",
       "      <td>3</td>\n",
       "      <td>10</td>\n",
       "      <td>13</td>\n",
       "    </tr>\n",
       "    <tr>\n",
       "      <th>4</th>\n",
       "      <td>5</td>\n",
       "      <td>2011-01-01</td>\n",
       "      <td>1</td>\n",
       "      <td>0</td>\n",
       "      <td>1</td>\n",
       "      <td>4</td>\n",
       "      <td>0</td>\n",
       "      <td>6</td>\n",
       "      <td>0</td>\n",
       "      <td>1</td>\n",
       "      <td>0.24</td>\n",
       "      <td>0.2879</td>\n",
       "      <td>0.75</td>\n",
       "      <td>0.0</td>\n",
       "      <td>0</td>\n",
       "      <td>1</td>\n",
       "      <td>1</td>\n",
       "    </tr>\n",
       "  </tbody>\n",
       "</table>\n",
       "</div>"
      ],
      "text/plain": [
       "   instant      dteday  season  yr  mnth  hr  holiday  weekday  workingday  \\\n",
       "0        1  2011-01-01       1   0     1   0        0        6           0   \n",
       "1        2  2011-01-01       1   0     1   1        0        6           0   \n",
       "2        3  2011-01-01       1   0     1   2        0        6           0   \n",
       "3        4  2011-01-01       1   0     1   3        0        6           0   \n",
       "4        5  2011-01-01       1   0     1   4        0        6           0   \n",
       "\n",
       "   weathersit  temp   atemp   hum  windspeed  casual  registered  cnt  \n",
       "0           1  0.24  0.2879  0.81        0.0       3          13   16  \n",
       "1           1  0.22  0.2727  0.80        0.0       8          32   40  \n",
       "2           1  0.22  0.2727  0.80        0.0       5          27   32  \n",
       "3           1  0.24  0.2879  0.75        0.0       3          10   13  \n",
       "4           1  0.24  0.2879  0.75        0.0       0           1    1  "
      ]
     },
     "execution_count": 1,
     "metadata": {},
     "output_type": "execute_result"
    }
   ],
   "source": [
    "import pandas as pd\n",
    "import matplotlib.pyplot as plt\n",
    "%matplotlib inline\n",
    "bike_rentals = pd.read_csv('bike_rental_hour.csv')\n",
    "bike_rentals.head()"
   ]
  },
  {
   "cell_type": "code",
   "execution_count": 2,
   "metadata": {
    "collapsed": false
   },
   "outputs": [
    {
     "data": {
      "text/plain": [
       "<matplotlib.axes._subplots.AxesSubplot at 0x7fd58355cb00>"
      ]
     },
     "execution_count": 2,
     "metadata": {},
     "output_type": "execute_result"
    },
    {
     "data": {
      "image/png": "[encoded data removed]",
      "text/plain": [
       "<matplotlib.figure.Figure at 0x7fd5f4634b00>"
      ]
     },
     "metadata": {},
     "output_type": "display_data"
    }
   ],
   "source": [
    "bike_rentals['cnt'].hist() #let's see the typical rental ammounts per day"
   ]
  },
  {
   "cell_type": "code",
   "execution_count": 21,
   "metadata": {
    "collapsed": false
   },
   "outputs": [
    {
     "data": {
      "text/plain": [
       "189.46308763450142"
      ]
     },
     "execution_count": 21,
     "metadata": {},
     "output_type": "execute_result"
    }
   ],
   "source": [
    "bike_rentals['cnt'].mean()"
   ]
  },
  {
   "cell_type": "code",
   "execution_count": 3,
   "metadata": {
    "collapsed": false
   },
   "outputs": [
    {
     "data": {
      "text/plain": [
       "instant       0.278379\n",
       "season        0.178056\n",
       "yr            0.250495\n",
       "mnth          0.120638\n",
       "hr            0.394071\n",
       "holiday      -0.030927\n",
       "weekday       0.026900\n",
       "workingday    0.030284\n",
       "weathersit   -0.142426\n",
       "temp          0.404772\n",
       "atemp         0.400929\n",
       "hum          -0.322911\n",
       "windspeed     0.093234\n",
       "casual        0.694564\n",
       "registered    0.972151\n",
       "cnt           1.000000\n",
       "Name: cnt, dtype: float64"
      ]
     },
     "execution_count": 3,
     "metadata": {},
     "output_type": "execute_result"
    }
   ],
   "source": [
    "#what columns correlate more to the cnt\n",
    "bike_rentals.corr().loc[:,'cnt']"
   ]
  },
  {
   "cell_type": "code",
   "execution_count": 4,
   "metadata": {
    "collapsed": true
   },
   "outputs": [],
   "source": [
    "#We'll choose all the columns for features except:\n",
    "#cnt, dteday, registered and casual because these last two \n",
    "#are derived from count so they can inject unwanted data \n",
    "#into our predictions\n",
    "\n",
    "features = list(bike_rentals.columns.drop(['cnt','registered','casual','dteday']))"
   ]
  },
  {
   "cell_type": "markdown",
   "metadata": {},
   "source": [
    "## Feature Engineering\n",
    "\n",
    "Before we can start applying Machine Learning models let's work on some of the columns to help the model work better. \n",
    "Let's start by the hour column. The hours are related to each other but the model will treat each hour separately."
   ]
  },
  {
   "cell_type": "code",
   "execution_count": 5,
   "metadata": {
    "collapsed": false
   },
   "outputs": [],
   "source": [
    "def assign_label(n):\n",
    "    if (n>=6) and (n<12):\n",
    "        return 1\n",
    "    if (n>=12) and (n<18):\n",
    "        return 2\n",
    "    if (n>=18) and (n<24):\n",
    "        return 3\n",
    "    if (n>=0) and (n<12):\n",
    "        return 4\n",
    "\n",
    "bike_rentals['time_label'] = bike_rentals['hr'].apply(assign_label)\n",
    "    "
   ]
  },
  {
   "cell_type": "code",
   "execution_count": 6,
   "metadata": {
    "collapsed": false
   },
   "outputs": [
    {
     "data": {
      "text/plain": [
       "0    4\n",
       "1    4\n",
       "2    4\n",
       "3    4\n",
       "4    4\n",
       "5    4\n",
       "6    1\n",
       "7    1\n",
       "8    1\n",
       "9    1\n",
       "Name: time_label, dtype: int64"
      ]
     },
     "execution_count": 6,
     "metadata": {},
     "output_type": "execute_result"
    }
   ],
   "source": [
    "bike_rentals['time_label'].head(10) \n",
    "#we used numeric labels because \n",
    "#some Machine Learning models need numeric featrues"
   ]
  },
  {
   "cell_type": "markdown",
   "metadata": {},
   "source": [
    "## Splitting the dataset\n",
    "\n",
    "We will split the dataset into two parts, a training and a test part. this is for training the model on the training set and test results on the other so we can calculate the accuracy. \n",
    "To know how effective our model is we will use a mae and mse."
   ]
  },
  {
   "cell_type": "code",
   "execution_count": 7,
   "metadata": {
    "collapsed": false
   },
   "outputs": [],
   "source": [
    "train = bike_rentals.sample(frac=0.8,random_state=1)\n",
    "test = bike_rentals.loc[~bike_rentals.index.isin(train.index)]"
   ]
  },
  {
   "cell_type": "code",
   "execution_count": 8,
   "metadata": {
    "collapsed": false
   },
   "outputs": [
    {
     "data": {
      "text/plain": [
       "(3476, 18)"
      ]
     },
     "execution_count": 8,
     "metadata": {},
     "output_type": "execute_result"
    }
   ],
   "source": [
    "test.shape"
   ]
  },
  {
   "cell_type": "code",
   "execution_count": 9,
   "metadata": {
    "collapsed": false
   },
   "outputs": [
    {
     "data": {
      "text/plain": [
       "(13903, 18)"
      ]
     },
     "execution_count": 9,
     "metadata": {},
     "output_type": "execute_result"
    }
   ],
   "source": [
    "train.shape"
   ]
  },
  {
   "cell_type": "markdown",
   "metadata": {},
   "source": [
    "## Applying models\n",
    "We'll apply different machine learning models and later ensemble them in a random forrest for maximun accuracy\n",
    "\n",
    "#### Let's start by Linear Regression\n",
    "Linear regression will probably work fairly well on this data, given that many of the columns are highly correlated with cnt."
   ]
  },
  {
   "cell_type": "code",
   "execution_count": 10,
   "metadata": {
    "collapsed": false
   },
   "outputs": [],
   "source": [
    "from sklearn.linear_model import LinearRegression\n",
    "from sklearn import metrics"
   ]
  },
  {
   "cell_type": "code",
   "execution_count": 11,
   "metadata": {
    "collapsed": true
   },
   "outputs": [],
   "source": [
    "lr = LinearRegression()"
   ]
  },
  {
   "cell_type": "code",
   "execution_count": 12,
   "metadata": {
    "collapsed": false
   },
   "outputs": [
    {
     "name": "stdout",
     "output_type": "stream",
     "text": [
      "19580.734550455003 104.63808594054555\n"
     ]
    }
   ],
   "source": [
    "lr.fit(train[features],train['cnt'])\n",
    "predictions = lr.predict(test[features])\n",
    "lr_mae = metrics.mean_absolute_error(test['cnt'],predictions)\n",
    "lr_mse = metrics.mean_squared_error(test['cnt'],predictions)\n",
    "print(lr_mse,lr_mae)"
   ]
  },
  {
   "cell_type": "markdown",
   "metadata": {},
   "source": [
    "We need to fit other models to compare the mse of this model, but we know that this model has an aproximate error of 98 units off the cnt\n",
    "\n",
    "Now we're ready to apply the decision tree algorithm. We'll be able to compare its error with the error from linear regression, which will enable us to pick the right algorithm for this data set."
   ]
  },
  {
   "cell_type": "code",
   "execution_count": 13,
   "metadata": {
    "collapsed": false
   },
   "outputs": [],
   "source": [
    "from sklearn.tree import DecisionTreeRegressor"
   ]
  },
  {
   "cell_type": "code",
   "execution_count": 14,
   "metadata": {
    "collapsed": false
   },
   "outputs": [
    {
     "data": {
      "text/plain": [
       "{4005.6993036476792: (9, 9),\n",
       " 4022.7268090329685: (9, 8),\n",
       " 4033.127736125922: (9, 7),\n",
       " 4046.5546676305544: (9, 4),\n",
       " 4052.789787174608: (9, 5),\n",
       " 4060.1681001070087: (9, 3),\n",
       " 4064.3975266208327: (9, 6),\n",
       " 4117.284940123262: (9, 2),\n",
       " 4199.2811121233835: (9, 1),\n",
       " 5137.559410116075: (8, 9),\n",
       " 5157.813460577297: (8, 7),\n",
       " 5158.952073780749: (8, 8),\n",
       " 5164.78356926867: (8, 2),\n",
       " 5167.279004471807: (8, 5),\n",
       " 5167.543479748549: (8, 6),\n",
       " 5168.441856703274: (8, 4),\n",
       " 5168.579285801981: (8, 3),\n",
       " 5240.415347183768: (8, 1),\n",
       " 6902.622142612437: (7, 2),\n",
       " 6904.1629977333005: (7, 1),\n",
       " 6906.381298611644: (7, 3),\n",
       " 6907.053901283486: (7, 4),\n",
       " 6907.3034726027345: (7, 5),\n",
       " 6909.781389443795: (7, 6),\n",
       " 6911.750157980825: (7, 7),\n",
       " 6912.282592868505: (7, 8),\n",
       " 6913.526998946762: (7, 9),\n",
       " 10457.57044522323: (6, 2),\n",
       " 10458.312045857578: (6, 1),\n",
       " 10465.438015126794: (6, 9),\n",
       " 10465.53388547115: (6, 4),\n",
       " 10465.534322827072: (6, 5),\n",
       " 11668.267188969145: (5, 9),\n",
       " 13695.523654101526: (4, 9),\n",
       " 15499.548646817384: (3, 9),\n",
       " 18537.28318517501: (2, 9),\n",
       " 22046.43556585738: (1, 9)}"
      ]
     },
     "execution_count": 14,
     "metadata": {},
     "output_type": "execute_result"
    }
   ],
   "source": [
    "#let's play with maximun depth minimun_sample_leaf\n",
    "results = {}\n",
    "\n",
    "for i in range(1,10):\n",
    "    for v in range (1,10):\n",
    "        dt = DecisionTreeRegressor(max_depth=i,min_samples_leaf=v)\n",
    "        dt.fit(train[features],train['cnt'])\n",
    "        predictions = dt.predict(test[features])\n",
    "        dt_mse = metrics.mean_squared_error(test['cnt'],predictions)\n",
    "        results[dt_mse] = (i,v)\n",
    "\n",
    "results\n",
    "        "
   ]
  },
  {
   "cell_type": "code",
   "execution_count": 15,
   "metadata": {
    "collapsed": false
   },
   "outputs": [
    {
     "data": {
      "image/png": "[encoded data removed]",
      "text/plain": [
       "<matplotlib.figure.Figure at 0x7fd5768cd438>"
      ]
     },
     "metadata": {},
     "output_type": "display_data"
    },
    {
     "data": {
      "image/png": "[encoded data removed]",
      "text/plain": [
       "<matplotlib.figure.Figure at 0x7fd575fc5f28>"
      ]
     },
     "metadata": {},
     "output_type": "display_data"
    }
   ],
   "source": [
    "#we can see that for depth = 9 and min_split = 5 we got a minimun mse\n",
    "#let's plot and see the results for visual\n",
    "y = []\n",
    "depths = []\n",
    "min_samples = []\n",
    "for key, val in results.items():\n",
    "    y.append(key)\n",
    "    depths.append(val[0])\n",
    "    min_samples.append(val[1])\n",
    "plt.plot(depths,y)\n",
    "plt.show()\n",
    "plt.plot(min_samples,y)\n",
    "plt.show()\n",
    "    "
   ]
  },
  {
   "cell_type": "markdown",
   "metadata": {},
   "source": [
    "We can see that for all the iterations the min value was around max_depth = 9 and min_samples_leaf = 9. We'll use these for our tree\n",
    "\n",
    "We can also see that we got a much higher accuracy with this model than with the Linear Regresion model. Our mse on the LR model was 17K, here it is 4K. Much better!!!"
   ]
  },
  {
   "cell_type": "markdown",
   "metadata": {},
   "source": [
    "#### Let's now use a Random Forrest Regressor"
   ]
  },
  {
   "cell_type": "code",
   "execution_count": 20,
   "metadata": {
    "collapsed": false
   },
   "outputs": [
    {
     "data": {
      "text/plain": [
       "{1: (2122.3958170310707, 26.76915995397008),\n",
       " 2: (2067.376584698912, 26.786403992456208),\n",
       " 3: (2077.3392868237393, 26.970174513416705),\n",
       " 4: (2151.5820489371335, 27.379494733798186),\n",
       " 5: (2215.436989521778, 27.841951703393725),\n",
       " 6: (2314.330509100319, 28.419285102159346),\n",
       " 7: (2396.583764231162, 28.974380697279816),\n",
       " 8: (2476.7247268186698, 29.266126354935142),\n",
       " 9: (2544.0783211240387, 29.708904338365247)}"
      ]
     },
     "execution_count": 20,
     "metadata": {},
     "output_type": "execute_result"
    }
   ],
   "source": [
    "from sklearn.ensemble import RandomForestRegressor\n",
    "#let's play with minimun_sample_leaf\n",
    "results = {}\n",
    "\n",
    "for i in range(1,10):\n",
    "        rf = RandomForestRegressor(min_samples_leaf=i,random_state=1)\n",
    "        rf.fit(train[features],train['cnt'])\n",
    "        predictions = rf.predict(test[features])\n",
    "        rf_mae = metrics.mean_absolute_error(test['cnt'],predictions)\n",
    "        rf_mse = metrics.mean_squared_error(test['cnt'],predictions)\n",
    "        results[i] = (rf_mse,rf_mae)\n",
    "\n",
    "results\n",
    "        "
   ]
  },
  {
   "cell_type": "markdown",
   "metadata": {},
   "source": [
    "# Conclusion\n",
    "We can see that the forrest did impresively better with 2 min_sample_leaf. \n",
    "\n",
    "We came down from 17K mse to 4K mse with tree to 2K mse with random forrest. This model is one of the best ML algoriths our there nowadays.\n",
    "\n",
    "Now our algorithm predicts how many bikes will be rented on any given day with an aproximate 13% of accuracy. As a final note, we could probably improve this with some more tweaking. See if you can do it!"
   ]
  },
  {
   "cell_type": "code",
   "execution_count": null,
   "metadata": {
    "collapsed": true
   },
   "outputs": [],
   "source": []
  }
 ],
 "metadata": {
  "kernelspec": {
   "display_name": "Python 3",
   "language": "python",
   "name": "python3"
  },
  "language_info": {
   "codemirror_mode": {
    "name": "ipython",
    "version": 3
   },
   "file_extension": ".py",
   "mimetype": "text/x-python",
   "name": "python",
   "nbconvert_exporter": "python",
   "pygments_lexer": "ipython3",
   "version": "3.4.3"
  }
 },
 "nbformat": 4,
 "nbformat_minor": 0
}
